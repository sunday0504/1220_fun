{
 "cells": [
  {
   "cell_type": "code",
   "execution_count": 3,
   "metadata": {},
   "outputs": [
    {
     "data": {
      "text/plain": [
       "5672"
      ]
     },
     "execution_count": 3,
     "metadata": {},
     "output_type": "execute_result"
    }
   ],
   "source": [
    "import pyes\n",
    "import elasticsearch\n",
    "\n",
    "es_address='localhost:9200'\n",
    "conn = pyes.es.ES(es_address)\n",
    "bq = pyes.query.BoolQuery() \n",
    "#q = pyes.query.MatchAllQuery()\n",
    "\n",
    "tq = pyes.query.TermQuery(field=\"actor_email\", value=\"ericmao@cyber00rn.org\")\n",
    "\n",
    "ESR = pyes.ESRange(field=\"id_time\", from_value=\"2016-03-01\", to_value=\"2016-04-30\", \n",
    "                   include_lower=True ,include_upper=False)\n",
    "rq = pyes.query.RangeQuery(qrange=ESR)\n",
    "\n",
    "bq.add_must(tq)\n",
    "bq.add_must(rq)\n",
    "\n",
    "result = conn.search(query=bq , indices='google' , doc_types='drive') \n",
    "len(result)"
   ]
  },
  {
   "cell_type": "code",
   "execution_count": 4,
   "metadata": {},
   "outputs": [
    {
     "data": {
      "text/plain": [
       "{'23.5,121',\n",
       " '25.039199829101562,121.52499389648438',\n",
       " '37.56709289550781,-122.37100219726562',\n",
       " '37.77490234375,-122.41940307617188',\n",
       " '38,-97',\n",
       " '50.08329772949219,14.416702270507812',\n",
       " '50.211700439453125,15.844192504882812'}"
      ]
     },
     "execution_count": 4,
     "metadata": {},
     "output_type": "execute_result"
    }
   ],
   "source": [
    "country_set=set()\n",
    "for i in range(0,100):\n",
    "    if 'geoip_countryCode' in result[i]:\n",
    "        country_set.add(result[i]['geoip_countryCode'])\n",
    "\n",
    "len(country_set)\n",
    "country_set\n",
    "\n",
    "ip_set=set()\n",
    "for i in range(0,100):\n",
    "    if 'ipAddress' in result[i]:\n",
    "        ip_set.add(result[i]['ipAddress']+\",\"+result[i]['geoip_countryCode'])\n",
    "\n",
    "len(ip_set)\n",
    "ip_set\n",
    "\n",
    "geo_set=set()\n",
    "for i in range(0,len(result)):\n",
    "    if 'ipAddress' in result[i]:\n",
    "        geo_set.add(str(result[i]['geoip_latitude'])+\",\"+str(result[i]['geoip_longitude']))\n",
    "\n",
    "len(geo_set)\n",
    "geo_set"
   ]
  },
  {
   "cell_type": "code",
   "execution_count": 5,
   "metadata": {},
   "outputs": [
    {
     "data": {
      "text/plain": [
       "{'id_applicationName': 'drive',\n",
       " 'actor_profileId': '108189844280408676879',\n",
       " 'geoip_countryName': 'Taiwan',\n",
       " 'event_old_value': ['none'],\n",
       " 'kind': 'admin#reports#activity',\n",
       " 'geoip_latitude': 25.039199829101562,\n",
       " 'event_doc_title': 'E0FEFDC2-7667-4AD3-AA88-737B330AF6F0.jpg',\n",
       " 'id_uniqueQualifier': 8195853153144543330,\n",
       " 'ipAddress': '211.73.74.35',\n",
       " 'geoip_countryCode': 'TW',\n",
       " 'actor_email': 'ericmao@cyber00rn.org',\n",
       " 'event_new_value': ['owner'],\n",
       " 'event_doc_id': '0BwHnaad0ivbsVHIzRUhCd3FScFk',\n",
       " 'event_doc_type': 'unknown',\n",
       " 'id_time': '2016-04-27T01:56:40.960Z',\n",
       " 'event_type': 'acl_change',\n",
       " 'event_primary_event': False,\n",
       " 'event_owner': 'ericmao@cyber00rn.org',\n",
       " 'geoip_city': 'Taipei',\n",
       " 'event_name': 'change_user_access',\n",
       " 'id_customerId': 'C02u7zbcq',\n",
       " 'geoip_longitude': 121.52499389648438,\n",
       " 'event_target_user': 'ericmao@cyber00rn.org'}"
      ]
     },
     "execution_count": 5,
     "metadata": {},
     "output_type": "execute_result"
    }
   ],
   "source": [
    "result[0]"
   ]
  },
  {
   "cell_type": "code",
   "execution_count": 6,
   "metadata": {},
   "outputs": [
    {
     "ename": "SyntaxError",
     "evalue": "invalid syntax (<ipython-input-6-13d8c19da625>, line 12)",
     "output_type": "error",
     "traceback": [
      "\u001b[1;36m  File \u001b[1;32m\"<ipython-input-6-13d8c19da625>\"\u001b[1;36m, line \u001b[1;32m12\u001b[0m\n\u001b[1;33m    print json.dumps(rs.aggs,indent=2)\u001b[0m\n\u001b[1;37m             ^\u001b[0m\n\u001b[1;31mSyntaxError\u001b[0m\u001b[1;31m:\u001b[0m invalid syntax\n"
     ]
    }
   ],
   "source": [
    "import json\n",
    "\n",
    "conn = pyes.es.ES('localhost:9200')\n",
    "q = pyes.query.MatchAllQuery()\n",
    "tagg = pyes.aggs.TermsAgg('actor_email', field= 'actor_email') \n",
    "\n",
    "qsearch = pyes.query.Search(q) \n",
    "\n",
    "qsearch.agg.add(tagg) \n",
    "\n",
    "rs = conn.search(query=qsearch,index='google',type=\"drive\") \n",
    "print json.dumps(rs.aggs,indent=2)"
   ]
  },
  {
   "cell_type": "code",
   "execution_count": null,
   "metadata": {},
   "outputs": [],
   "source": [
    "import pyes\n",
    "import json\n",
    "conn=pyes.es.ES('localhost:9200')\n",
    "q = pyes.MatchAllQuery()\n",
    "tagg = pyes.aggs.TermsAgg('user', field= 'actor_email', sub_aggs=[]) \n",
    "tagg1 = pyes.aggs.TermsAgg('country', field= 'geoip_countryName')  \n",
    "tagg.sub_aggs.append(tagg1) \n",
    "# 將tagg1加到tagg.sub_aggs裡面。\n",
    "qsearch = pyes.query.Search(q) \n",
    "# This \"Search\" is under pyes.query, http://pydoc.net/Python/pyes/0.99.5/pyes.query\n",
    "qsearch.agg.add(tagg)\n",
    "\n",
    "rs = conn.search(query=qsearch , indices='google' ,type=\"drive\" )\n",
    "print json.dumps(rs.aggs,indent=2)"
   ]
  },
  {
   "cell_type": "code",
   "execution_count": null,
   "metadata": {},
   "outputs": [],
   "source": [
    "qsearch"
   ]
  },
  {
   "cell_type": "code",
   "execution_count": null,
   "metadata": {},
   "outputs": [],
   "source": []
  }
 ],
 "metadata": {
  "kernelspec": {
   "display_name": "Python 3",
   "language": "python",
   "name": "python3"
  },
  "language_info": {
   "codemirror_mode": {
    "name": "ipython",
    "version": 3
   },
   "file_extension": ".py",
   "mimetype": "text/x-python",
   "name": "python",
   "nbconvert_exporter": "python",
   "pygments_lexer": "ipython3",
   "version": "3.7.0"
  }
 },
 "nbformat": 4,
 "nbformat_minor": 2
}
